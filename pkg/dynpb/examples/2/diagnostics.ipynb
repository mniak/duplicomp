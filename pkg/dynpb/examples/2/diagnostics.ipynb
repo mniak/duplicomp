{
 "cells": [
  {
   "cell_type": "code",
   "execution_count": 113,
   "metadata": {},
   "outputs": [],
   "source": [
    "import \"encoding/base64\"\n",
    "import \"fmt\"\n",
    "\n",
    "func b64dec (str string) []byte {\n",
    "\tb, err := base64.StdEncoding.DecodeString(str)\n",
    "\tif err != nil {\n",
    "\t\tpanic(err)\n",
    "\t}\n",
    "\treturn b\n",
    "}\n",
    "\n",
    "func hex(data []byte) string {\n",
    "\treturn fmt.Sprintf(\"[% 02X]\", data)\n",
    "}\n",
    "\n",
    "func bits(data []byte) string {\n",
    "\treturn fmt.Sprintf(\"%08b\", data)\n",
    "}\n",
    "\n",
    "func ints(data []byte) string {\n",
    "\treturn fmt.Sprintf(\"%03d\", data)\n",
    "}"
   ]
  },
  {
   "cell_type": "code",
   "execution_count": 114,
   "metadata": {},
   "outputs": [],
   "source": [
    "data := b64dec(\"gIKm78eehJER\")"
   ]
  },
  {
   "cell_type": "code",
   "execution_count": 115,
   "metadata": {},
   "outputs": [
    {
     "name": "stdout",
     "output_type": "stream",
     "text": [
      "Data Bin: [10000000 10000010 10100110 11101111 11000111 10011110 10000100 10010001 00010001]\n",
      "Data Hex: [80 82 A6 EF C7 9E 84 91 11]\n",
      "Data Int: [128 130 166 239 199 158 132 145 017]\n"
     ]
    },
    {
     "data": {
      "text/plain": [
       "48 <nil>"
      ]
     },
     "execution_count": 115,
     "metadata": {},
     "output_type": "execute_result"
    }
   ],
   "source": [
    "fmt.Println(\"Data Bin:\", bits(data))\n",
    "fmt.Println(\"Data Hex:\", hex(data))\n",
    "fmt.Println(\"Data Int:\", ints(data))"
   ]
  },
  {
   "cell_type": "code",
   "execution_count": 116,
   "metadata": {},
   "outputs": [
    {
     "name": "stdout",
     "output_type": "stream",
     "text": [
      "Data Bin: [00000000 00000010 00100110 01101111 01000111 00011110 00000100 00010001 00010001]\n",
      "Data Hex: [00 02 26 6F 47 1E 04 11 11]\n",
      "Data Int: [000 002 038 111 071 030 004 017 017]\n"
     ]
    },
    {
     "data": {
      "text/plain": [
       "48 <nil>"
      ]
     },
     "execution_count": 116,
     "metadata": {},
     "output_type": "execute_result"
    }
   ],
   "source": [
    "for i := range data {\n",
    "\tdata[i] &= 0b111_1111\n",
    "}\n",
    "\n",
    "fmt.Println(\"Data Bin:\", bits(data))\n",
    "fmt.Println(\"Data Hex:\", hex(data))\n",
    "fmt.Println(\"Data Int:\", ints(data))"
   ]
  },
  {
   "cell_type": "code",
   "execution_count": 117,
   "metadata": {},
   "outputs": [
    {
     "name": "stdout",
     "output_type": "stream",
     "text": [
      "Byte: 80h/00h\n",
      "  << 7 = 0\n",
      "  + 0 = 0\n",
      "  Result = 0\n",
      "Byte: 82h/02h\n",
      "  << 7 = 0\n",
      "  + 2 = 2\n",
      "  Result = 2\n",
      "Byte: A6h/26h\n",
      "  << 7 = 256\n",
      "  + 38 = 294\n",
      "  Result = 294\n",
      "Byte: EFh/6Fh\n",
      "  << 7 = 37632\n",
      "  + 111 = 37743\n",
      "  Result = 37743\n",
      "Byte: C7h/47h\n",
      "  << 7 = 4831104\n",
      "  + 71 = 4831175\n",
      "  Result = 4831175\n",
      "Byte: 9Eh/1Eh\n",
      "  << 7 = 618390400\n",
      "  + 30 = 618390430\n",
      "  Result = 618390430\n",
      "Byte: 84h/04h\n",
      "  << 7 = 79153975040\n",
      "  + 4 = 79153975044\n",
      "  Result = 79153975044\n",
      "Byte: 91h/11h\n",
      "  << 7 = 10131708805632\n",
      "  + 17 = 10131708805649\n",
      "  Result = 10131708805649\n",
      "Byte: 91h/11h\n",
      "  << 7 = 1296858727123072\n",
      "  + 17 = 1296858727123089\n",
      "  Result = 1296858727123089\n",
      "Int: 1296858727123089\n"
     ]
    },
    {
     "data": {
      "text/plain": [
       "22 <nil>"
      ]
     },
     "execution_count": 117,
     "metadata": {},
     "output_type": "execute_result"
    }
   ],
   "source": [
    "func parseint(data []byte) (result uint64) {\n",
    "\tfor _, b := range data {\n",
    "\t\tfmt.Printf(\"Byte: %02Xh/%02Xh\\n\", b|0x80, b&0x7F)\n",
    "\t\tresult <<= 7\n",
    "\t\tfmt.Printf(\"  << 7 = %d\\n\", result)\n",
    "\t\tresult += uint64(b)\n",
    "\t\tfmt.Printf(\"  + %d = %d\\n\", b, result)\n",
    "\t\tfmt.Printf(\"  Result = %d\\n\", result)\n",
    "\t}\n",
    "}\n",
    "\n",
    "fmt.Println(\"Int:\", parseint(data))"
   ]
  }
 ],
 "metadata": {
  "kernelspec": {
   "display_name": "Go",
   "language": "go",
   "name": "gophernotes"
  },
  "language_info": {
   "codemirror_mode": "",
   "file_extension": ".go",
   "mimetype": "",
   "name": "go",
   "nbconvert_exporter": "",
   "pygments_lexer": "",
   "version": "go1.21.1"
  }
 },
 "nbformat": 4,
 "nbformat_minor": 2
}
